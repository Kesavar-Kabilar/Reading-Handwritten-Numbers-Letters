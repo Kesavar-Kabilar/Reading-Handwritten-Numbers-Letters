{
 "cells": [
  {
   "cell_type": "markdown",
   "metadata": {},
   "source": [
    "# Creating a keras sequential model to interpret any single digit number or a letter"
   ]
  },
  {
   "cell_type": "code",
   "execution_count": 1,
   "metadata": {
    "id": "44RUqTby_1m4"
   },
   "outputs": [],
   "source": [
    "import numpy as np\n",
    "import tensorflow as tf\n",
    "from tensorflow import keras\n",
    "import pandas as pd\n",
    "\n",
    "import matplotlib.pyplot as plt\n",
    "from PIL import Image"
   ]
  },
  {
   "cell_type": "markdown",
   "metadata": {},
   "source": [
    "## Importing the Data"
   ]
  },
  {
   "cell_type": "code",
   "execution_count": 2,
   "metadata": {},
   "outputs": [],
   "source": [
    "\"\"\"\n",
    "Creates the mapping dictionary to map from the number \n",
    "to the corresponding letter/digit. \n",
    "\n",
    "Note: there are not 62 unique labels because some letters \n",
    "like c, i, j, k, l, m, o, p, s, u, v, w, x, y, z have \n",
    "very similar lowercase and uppercase letters. \n",
    "Hence there are 46 labels\n",
    "\"\"\"\n",
    "\n",
    "mapping_file = open(\"EMNIST/emnist-bymerge-mapping.txt\")\n",
    "\n",
    "mapping = {}\n",
    "for line in mapping_file:\n",
    "    line = line.split(\" \")\n",
    "    mapping[line[0]] = chr(int(line[1]))"
   ]
  },
  {
   "cell_type": "code",
   "execution_count": 3,
   "metadata": {},
   "outputs": [],
   "source": [
    "\"\"\"\n",
    "Extracting the information frome mnist-digits-train.csv file, \n",
    "emnist-digits-test.csv and storing the contents in Xtrain, \n",
    "Ttrain (Used to train the model), and Xtest, \n",
    "Ttest (Used to test the model).\n",
    "\n",
    "Xtrain, Xtest contains rows of an array with 784. Which represents \n",
    "an 28 by 28 pixel image and the values represent the greyscale / 255.\n",
    "Xtrain contains 697 931 rows while Xtest contains 116 322 rows.\n",
    "\n",
    "Ttrain, Ttest contains a number from 0 to 9 which corresponds \n",
    "to the handwritten digit for their repesctive row of numbers.\n",
    "\"\"\"\n",
    "\n",
    "Xtrain = pd.read_csv(\"EMNIST/emnist-bymerge-train.csv\", dtype=\"int16\")\n",
    "Xtest = pd.read_csv(\"EMNIST/emnist-bymerge-test.csv\", dtype=\"int16\")\n",
    "\n",
    "Ttrain = Xtrain[\"24\"]\n",
    "Ttest = Xtest[\"24\"]\n",
    "\n",
    "Xtrain.drop(columns=[\"24\"], inplace=True)\n",
    "Xtest.drop(columns=[\"24\"], inplace=True)"
   ]
  },
  {
   "cell_type": "markdown",
   "metadata": {},
   "source": [
    "## Creating, Compiling, Training and Testing the Model"
   ]
  },
  {
   "cell_type": "code",
   "execution_count": 4,
   "metadata": {},
   "outputs": [],
   "source": [
    "\"\"\"\n",
    "Uses keras to create a keras sequential model with 4 layers. \n",
    "First layer takes the input which corresponds to our data. \n",
    "The second, and third layer is the hidden layer. The dense represents that \n",
    "this layer is fully connected to the previous layer. It also uses \n",
    "the rectify linear unit activation function. The fourth layer \n",
    "represents all the possible outputs which corresponds to \n",
    "the possible digits and letters in our data set. It also uses the \n",
    "softmax activation function.\n",
    "\"\"\"\n",
    "\n",
    "model = keras.Sequential([\n",
    "    keras.layers.Flatten(input_shape=(784,1)), \n",
    "    keras.layers.Dense(392, activation=\"relu\"),\n",
    "    keras.layers.Dense(112, activation=\"relu\"),\n",
    "    keras.layers.Dense(47, activation=\"softmax\")\n",
    "])"
   ]
  },
  {
   "cell_type": "code",
   "execution_count": 5,
   "metadata": {},
   "outputs": [],
   "source": [
    "\"\"\"\n",
    "Compiles the model with adam (Adaptive Moment Estimation) \n",
    "optimizer, cross entropy loss function, and we want to \n",
    "focus on accuracy.\n",
    "\"\"\"\n",
    "\n",
    "model.compile(optimizer='adam',\n",
    "              loss='sparse_categorical_crossentropy',\n",
    "              metrics=['accuracy'])"
   ]
  },
  {
   "cell_type": "code",
   "execution_count": 6,
   "metadata": {},
   "outputs": [
    {
     "name": "stdout",
     "output_type": "stream",
     "text": [
      "Epoch 1/12\n",
      "698/698 [==============================] - 18s 23ms/step - loss: 3.2292 - accuracy: 0.3819\n",
      "Epoch 2/12\n",
      "698/698 [==============================] - 17s 25ms/step - loss: 0.9543 - accuracy: 0.7130\n",
      "Epoch 3/12\n",
      "698/698 [==============================] - 18s 25ms/step - loss: 0.6317 - accuracy: 0.8031\n",
      "Epoch 4/12\n",
      "698/698 [==============================] - 20s 29ms/step - loss: 0.5289 - accuracy: 0.83000s - l\n",
      "Epoch 5/12\n",
      "698/698 [==============================] - 22s 31ms/step - loss: 0.4809 - accuracy: 0.8429\n",
      "Epoch 6/12\n",
      "698/698 [==============================] - 23s 32ms/step - loss: 0.4507 - accuracy: 0.85091s - loss: 0.4508 - accura - ETA: 0s - loss: 0\n",
      "Epoch 7/12\n",
      "698/698 [==============================] - 20s 29ms/step - loss: 0.4292 - accuracy: 0.8564\n",
      "Epoch 8/12\n",
      "698/698 [==============================] - 18s 26ms/step - loss: 0.4143 - accuracy: 0.8604\n",
      "Epoch 9/12\n",
      "698/698 [==============================] - 18s 26ms/step - loss: 0.4000 - accuracy: 0.8647\n",
      "Epoch 10/12\n",
      "698/698 [==============================] - 21s 30ms/step - loss: 0.3905 - accuracy: 0.86700s - loss: 0.3903 - accu\n",
      "Epoch 11/12\n",
      "698/698 [==============================] - 20s 28ms/step - loss: 0.3804 - accuracy: 0.8695\n",
      "Epoch 12/12\n",
      "698/698 [==============================] - 21s 30ms/step - loss: 0.3743 - accuracy: 0.8707\n"
     ]
    },
    {
     "data": {
      "text/plain": [
       "<tensorflow.python.keras.callbacks.History at 0x12a734b8b20>"
      ]
     },
     "execution_count": 6,
     "metadata": {},
     "output_type": "execute_result"
    }
   ],
   "source": [
    "\"\"\"\n",
    "Trains the model with the given Xtrain and Ttrain\n",
    "with the batch size of 1000 and epochs of 12.\n",
    "\"\"\"\n",
    "\n",
    "model.fit(Xtrain, Ttrain, batch_size=1000, epochs=12, shuffle=True)"
   ]
  },
  {
   "cell_type": "code",
   "execution_count": 7,
   "metadata": {},
   "outputs": [
    {
     "name": "stdout",
     "output_type": "stream",
     "text": [
      "3636/3636 [==============================] - 8s 2ms/step - loss: 0.4232 - accuracy: 0.8590\n",
      "Test accuracy: 0.859046459197998\n"
     ]
    }
   ],
   "source": [
    "test_loss, test_acc = model.evaluate(Xtest, Ttest, verbose=1) \n",
    "\n",
    "print('Test accuracy:', test_acc)"
   ]
  },
  {
   "cell_type": "markdown",
   "metadata": {},
   "source": [
    "## User Input with Test Data\n",
    "### The user can input any number from 0 to 39 998 (Inclusive) and the function will output the image of the number, the correct number that is being represented, and the model's predicted results"
   ]
  },
  {
   "cell_type": "code",
   "execution_count": 8,
   "metadata": {},
   "outputs": [],
   "source": [
    "def test_data(image_num):\n",
    "    \"\"\"\n",
    "    Takes an input from 0, 116 321 and uses the validation data \n",
    "    from the data set and will print the image, actual number \n",
    "    and the predicted number by the model.\n",
    "    \"\"\"\n",
    "    image = np.array(Xtest.loc[image_num])\n",
    "    \n",
    "    # Predicts the model \n",
    "    prediction = model.predict(image.reshape(1, 784))\n",
    "\n",
    "    image = image.reshape((28, 28))\n",
    "\n",
    "    plt.imshow(image.T)\n",
    "    plt.show()\n",
    "\n",
    "    print(\"Actual Result: \" + mapping[str(Ttest.loc[image_num])])\n",
    "\n",
    "    predicted_num = np.argmax(prediction[0])\n",
    "    print(\"Model Predicted Number: \" + mapping[str(predicted_num)])"
   ]
  },
  {
   "cell_type": "code",
   "execution_count": 9,
   "metadata": {},
   "outputs": [
    {
     "data": {
      "image/png": "[encoded data removed]",
      "text/plain": [
       "<Figure size 432x288 with 1 Axes>"
      ]
     },
     "metadata": {
      "needs_background": "light"
     },
     "output_type": "display_data"
    },
    {
     "name": "stdout",
     "output_type": "stream",
     "text": [
      "Actual Result: 7\n",
      "Model Predicted Number: 7\n"
     ]
    }
   ],
   "source": [
    "test_data(116321)\n",
    "# Input any value between 0 and 116 321 inclusive"
   ]
  },
  {
   "cell_type": "markdown",
   "metadata": {},
   "source": [
    "## User Input with a Created Image\n",
    "### The user can alter the number.png and the model will attempt to accurately decipher the written number."
   ]
  },
  {
   "cell_type": "code",
   "execution_count": 10,
   "metadata": {},
   "outputs": [],
   "source": [
    "def read_written_num(filename):\n",
    "    img = Image.open(filename)\n",
    "    img = img.resize((28, 28))\n",
    "    # Converts the image to a greyscall image\n",
    "    img = np.asarray(img)\n",
    "    if len(img.shape) == 3:\n",
    "        img = np.dot(img[:28, :28, :3], [0.2989, 0.5870, 0.1140])\n",
    "    \n",
    "    # Displays the image\n",
    "    plt.imshow(img)\n",
    "    plt.show()\n",
    "    \n",
    "    # Reshapes the image to the correct shape to use in the model\n",
    "    img = img.T\n",
    "    img = img.reshape((1, 784))\n",
    "    \n",
    "    predictions = model.predict([img])\n",
    "    predicted_num = np.argmax(predictions[0])\n",
    "    print(\"Model Predicted Number: \" + mapping[str(predicted_num)])"
   ]
  },
  {
   "cell_type": "code",
   "execution_count": 11,
   "metadata": {
    "scrolled": true
   },
   "outputs": [
    {
     "data": {
      "image/png": "[encoded data removed]",
      "text/plain": [
       "<Figure size 432x288 with 1 Axes>"
      ]
     },
     "metadata": {
      "needs_background": "light"
     },
     "output_type": "display_data"
    },
    {
     "name": "stdout",
     "output_type": "stream",
     "text": [
      "Model Predicted Number: N\n"
     ]
    }
   ],
   "source": [
    "read_written_num(\"picture.png\")\n",
    "# Attempts to read the number written in number.png file"
   ]
  },
  {
   "cell_type": "markdown",
   "metadata": {},
   "source": [
    "## Saving the Created Model"
   ]
  },
  {
   "cell_type": "code",
   "execution_count": 12,
   "metadata": {},
   "outputs": [
    {
     "data": {
      "text/plain": [
       "<tensorflow.python.keras.engine.sequential.Sequential at 0x12a6e509be0>"
      ]
     },
     "execution_count": 12,
     "metadata": {},
     "output_type": "execute_result"
    }
   ],
   "source": [
    "\"\"\"\n",
    "Save a Model (1st way)\n",
    "\n",
    "This method will save\n",
    "    Architecture of the model, allowing to recreate the model\n",
    "    The weights of the model\n",
    "    Training configuartions (loss, optimizer)\n",
    "    State of the optimizer, allowing to resume training exactly where you left off.\n",
    "\"\"\"\n",
    "model.save(\"Model.h5\")\n",
    "\n",
    "\"\"\"\n",
    "Loads a saved model\n",
    "\"\"\"\n",
    "model = keras.models.load_model(\"Model.h5\")"
   ]
  },
  {
   "cell_type": "code",
   "execution_count": 13,
   "metadata": {},
   "outputs": [],
   "source": [
    "\"\"\"\n",
    "Save a Model's Architecture\n",
    "\"\"\"\n",
    "json_string = model.to_json()\n",
    "# yaml_string = model.to_yaml()\n",
    "\"\"\"\n",
    "Loads the Model's Architecture\n",
    "\"\"\"\n",
    "model_architecture = keras.models.model_from_json(json_string)\n",
    "# model_architecture = keras.models.model_from_yaml(yaml_string)"
   ]
  },
  {
   "cell_type": "code",
   "execution_count": 14,
   "metadata": {},
   "outputs": [],
   "source": [
    "\"\"\"\n",
    "Save a Model's Weights\n",
    "\"\"\"\n",
    "model.save_weights(\"Model_Weights.h5\")\n",
    "\"\"\"\n",
    "Loads the Model's Weights\n",
    "\"\"\"\n",
    "model2 = keras.Sequential([\n",
    "    keras.layers.Flatten(input_shape=(784,1)), \n",
    "    keras.layers.Dense(392, activation=\"relu\"),\n",
    "    keras.layers.Dense(112, activation=\"relu\"),\n",
    "    keras.layers.Dense(47, activation=\"softmax\")\n",
    "])\n",
    "model2.load_weights(\"Model_Weights.h5\")"
   ]
  }
 ],
 "metadata": {
  "colab": {
   "collapsed_sections": [],
   "name": "HandWrittenDigits.ipynb",
   "provenance": []
  },
  "kernelspec": {
   "display_name": "Python 3",
   "language": "python",
   "name": "python3"
  },
  "language_info": {
   "codemirror_mode": {
    "name": "ipython",
    "version": 3
   },
   "file_extension": ".py",
   "mimetype": "text/x-python",
   "name": "python",
   "nbconvert_exporter": "python",
   "pygments_lexer": "ipython3",
   "version": "3.9.5"
  }
 },
 "nbformat": 4,
 "nbformat_minor": 1
}
