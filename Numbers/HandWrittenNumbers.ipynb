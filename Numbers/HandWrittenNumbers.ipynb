{
 "cells": [
  {
   "cell_type": "markdown",
   "metadata": {},
   "source": [
    "# Creating a keras sequential model to interpret any single digit number."
   ]
  },
  {
   "cell_type": "code",
   "execution_count": 1,
   "metadata": {
    "id": "44RUqTby_1m4"
   },
   "outputs": [],
   "source": [
    "import numpy as np\n",
    "import tensorflow as tf\n",
    "import pandas as pd\n",
    "from tensorflow import keras\n",
    "import matplotlib.pyplot as plt\n",
    "from PIL import Image\n",
    "\n",
    "from sklearn.metrics import confusion_matrix\n",
    "import itertools"
   ]
  },
  {
   "cell_type": "markdown",
   "metadata": {},
   "source": [
    "## Importing the Data"
   ]
  },
  {
   "cell_type": "code",
   "execution_count": 2,
   "metadata": {},
   "outputs": [],
   "source": [
    "\"\"\"\n",
    "Extracting the information frome mnist-digits-train.csv file, \n",
    "emnist-digits-test.csv and storing the contents in Xtrain, \n",
    "Ttrain (Used to train the model), and Xtest, \n",
    "Ttest (Used to test the model).\n",
    "\n",
    "Xtrain, Xtest contains rows of an array with 784. Which represents \n",
    "an 28 by 28 pixel image and the values represent the greyscale / 255.\n",
    "Xtrain contains 239 999 rows while Xtest contains 39 999 rows.\n",
    "\n",
    "Ttrain, Ttest contains a number from 0 to 9 which corresponds \n",
    "to the handwritten digit for their repesctive row of numbers.\n",
    "\"\"\"\n",
    "\n",
    "Xtrain = pd.read_csv(\"Data/emnist-digits-train.csv\", dtype=\"int16\")\n",
    "Xtest = pd.read_csv(\"Data/emnist-digits-test.csv\", dtype=\"int16\")\n",
    "\n",
    "Ttrain = Xtrain[\"8\"]\n",
    "Ttest = Xtest[\"0\"]\n",
    "\n",
    "Xtrain.drop(columns=[\"8\"], inplace=True)\n",
    "Xtest.drop(columns=[\"0\"], inplace=True)"
   ]
  },
  {
   "cell_type": "markdown",
   "metadata": {},
   "source": [
    "## Creating, Compiling, Training and Testing the Model"
   ]
  },
  {
   "cell_type": "code",
   "execution_count": 3,
   "metadata": {},
   "outputs": [],
   "source": [
    "\"\"\"\n",
    "Uses keras to create a keras sequential model with 3 layers. \n",
    "First layer takes the input which corresponds to our data. \n",
    "The second layer is the hidden layer. The dense represents that \n",
    "this layer is fully connected to the previous layer. It also uses \n",
    "the rectify linear unit activation function. The third layer \n",
    "represents all the possible outputs which corresponds to \n",
    "the 10 possible digits in our data set. It also uses the \n",
    "softmax activation function.\n",
    "\"\"\"\n",
    "\n",
    "model = keras.Sequential([\n",
    "    keras.layers.Flatten(input_shape=(784,1)), \n",
    "    keras.layers.Dense(128, activation=\"relu\"), \n",
    "    keras.layers.Dense(10, activation=\"softmax\")\n",
    "])"
   ]
  },
  {
   "cell_type": "code",
   "execution_count": 4,
   "metadata": {},
   "outputs": [],
   "source": [
    "\"\"\"\n",
    "Compiles the model with adam (Adaptive Moment Estimation) \n",
    "optimizer, cross entropy loss function, and we want to \n",
    "focus on accuracy.\n",
    "\"\"\"\n",
    "\n",
    "model.compile(optimizer='adam',\n",
    "              loss='sparse_categorical_crossentropy',\n",
    "              metrics=['accuracy'])"
   ]
  },
  {
   "cell_type": "code",
   "execution_count": 5,
   "metadata": {
    "scrolled": true
   },
   "outputs": [
    {
     "name": "stdout",
     "output_type": "stream",
     "text": [
      "Epoch 1/12\n",
      "600/600 [==============================] - 3s 5ms/step - loss: 2.4741 - accuracy: 0.9152\n",
      "Epoch 2/12\n",
      "600/600 [==============================] - 2s 4ms/step - loss: 0.3328 - accuracy: 0.9439\n",
      "Epoch 3/12\n",
      "600/600 [==============================] - 2s 4ms/step - loss: 0.1928 - accuracy: 0.9567\n",
      "Epoch 4/12\n",
      "600/600 [==============================] - 3s 4ms/step - loss: 0.1432 - accuracy: 0.9641\n",
      "Epoch 5/12\n",
      "600/600 [==============================] - 2s 4ms/step - loss: 0.1193 - accuracy: 0.9687\n",
      "Epoch 6/12\n",
      "600/600 [==============================] - 3s 4ms/step - loss: 0.1044 - accuracy: 0.9723\n",
      "Epoch 7/12\n",
      "600/600 [==============================] - 2s 4ms/step - loss: 0.0962 - accuracy: 0.9743\n",
      "Epoch 8/12\n",
      "600/600 [==============================] - 3s 4ms/step - loss: 0.0886 - accuracy: 0.9760\n",
      "Epoch 9/12\n",
      "600/600 [==============================] - 3s 5ms/step - loss: 0.0862 - accuracy: 0.9766\n",
      "Epoch 10/12\n",
      "600/600 [==============================] - 3s 5ms/step - loss: 0.0819 - accuracy: 0.9774\n",
      "Epoch 11/12\n",
      "600/600 [==============================] - 3s 5ms/step - loss: 0.0785 - accuracy: 0.9786\n",
      "Epoch 12/12\n",
      "600/600 [==============================] - 3s 5ms/step - loss: 0.0785 - accuracy: 0.9783\n"
     ]
    },
    {
     "data": {
      "text/plain": [
       "<tensorflow.python.keras.callbacks.History at 0x1f1aaf97220>"
      ]
     },
     "execution_count": 5,
     "metadata": {},
     "output_type": "execute_result"
    }
   ],
   "source": [
    "\"\"\"\n",
    "Trains the model with the given Xtrain and Ttrain\n",
    "with the batch size of 400 and epochs of 12.\n",
    "\"\"\"\n",
    "\n",
    "model.fit(Xtrain, Ttrain, batch_size=400, epochs=12, shuffle=True)"
   ]
  },
  {
   "cell_type": "code",
   "execution_count": 6,
   "metadata": {},
   "outputs": [
    {
     "name": "stdout",
     "output_type": "stream",
     "text": [
      "1250/1250 [==============================] - 2s 1ms/step - loss: 0.1054 - accuracy: 0.9741\n",
      "Test accuracy: 0.974099338054657\n"
     ]
    }
   ],
   "source": [
    "test_loss, test_acc = model.evaluate(Xtest, Ttest, verbose=1) \n",
    "\n",
    "print('Test accuracy:', test_acc)"
   ]
  },
  {
   "cell_type": "markdown",
   "metadata": {},
   "source": [
    "## User Input with Test Data\n",
    "### The user can input any number from 0 to 39 998 (Inclusive) and the function will output the image of the number, the correct number that is being represented, and the model's predicted results"
   ]
  },
  {
   "cell_type": "code",
   "execution_count": 7,
   "metadata": {},
   "outputs": [],
   "source": [
    "def test_data(image_num):\n",
    "    \"\"\"\n",
    "    Takes an input from 0, 39 998 and uses the validation data \n",
    "    from the data set and will print the image, actual number \n",
    "    and the predicted number by the model.\n",
    "    \"\"\"\n",
    "    image = np.array(Xtest.loc[image_num])\n",
    "    \n",
    "    # Predicts the model \n",
    "    prediction = model.predict(image.reshape(1, 784))\n",
    "\n",
    "    image = image.reshape((28, 28))\n",
    "\n",
    "    plt.imshow(image.T)\n",
    "    plt.show()\n",
    "\n",
    "    print(\"Actual Result: \" + str(Ttest.loc[image_num]))\n",
    "\n",
    "    predicted_num = np.argmax(prediction[0])\n",
    "    print(\"Model Predicted Number: \" + str(predicted_num))"
   ]
  },
  {
   "cell_type": "code",
   "execution_count": 8,
   "metadata": {},
   "outputs": [
    {
     "data": {
      "image/png": "[encoded data removed]",
      "text/plain": [
       "<Figure size 432x288 with 1 Axes>"
      ]
     },
     "metadata": {
      "needs_background": "light"
     },
     "output_type": "display_data"
    },
    {
     "name": "stdout",
     "output_type": "stream",
     "text": [
      "Actual Result: 0\n",
      "Model Predicted Number: 0\n"
     ]
    }
   ],
   "source": [
    "test_data(20000)\n",
    "# Input any value between 0 and 39 998 inclusive"
   ]
  },
  {
   "cell_type": "markdown",
   "metadata": {},
   "source": [
    "## User Input with a Created Image\n",
    "### The user can alter the number.png and the model will attempt to accurately decipher the written number."
   ]
  },
  {
   "cell_type": "code",
   "execution_count": 9,
   "metadata": {},
   "outputs": [],
   "source": [
    "def read_written_num(filename):\n",
    "    \"\"\"\n",
    "    Given any image it will attempt to guess the written number.\n",
    "    \"\"\"\n",
    "    img = Image.open(filename)\n",
    "    img = img.resize((28, 28))\n",
    "    # Converts the image to a greyscall image\n",
    "    img = np.asarray(img)\n",
    "    if len(img.shape) == 3:\n",
    "        img = np.dot(img[:28, :28, :3], [0.2989, 0.5870, 0.1140])\n",
    "    img = 255 - img\n",
    "    \n",
    "    # Displays the image\n",
    "    plt.imshow(img)\n",
    "    plt.show()\n",
    "    \n",
    "    # Reshapes the image to the correct shape to use in the model\n",
    "    img = img.T\n",
    "    img = img.reshape((1, 784))\n",
    "    \n",
    "    predictions = model.predict([img])\n",
    "    predicted_num = np.argmax(predictions[0])\n",
    "    print(\"Model Predicted Number: \" + str(predicted_num))"
   ]
  },
  {
   "cell_type": "code",
   "execution_count": 10,
   "metadata": {},
   "outputs": [
    {
     "data": {
      "image/png": "[encoded data removed]",
      "text/plain": [
       "<Figure size 432x288 with 1 Axes>"
      ]
     },
     "metadata": {
      "needs_background": "light"
     },
     "output_type": "display_data"
    },
    {
     "name": "stdout",
     "output_type": "stream",
     "text": [
      "Model Predicted Number: 8\n"
     ]
    }
   ],
   "source": [
    "read_written_num(\"number.png\")\n",
    "# Attempts to read the number written in number.png file"
   ]
  },
  {
   "cell_type": "markdown",
   "metadata": {},
   "source": [
    "## Confusion Matrix\n",
    "### Creates a chart that will show the comparison between the model's predicted results and the correct results."
   ]
  },
  {
   "cell_type": "code",
   "execution_count": 11,
   "metadata": {},
   "outputs": [],
   "source": [
    "predictions_percentages = model.predict(Xtest)\n",
    "predictions = np.argmax(predictions_percentages, axis=-1)\n",
    "\n",
    "cm = confusion_matrix(y_true=Ttest, y_pred=predictions)"
   ]
  },
  {
   "cell_type": "code",
   "execution_count": 12,
   "metadata": {},
   "outputs": [],
   "source": [
    "\"\"\"\n",
    "This function is directly copied from scikit-learn's website. \n",
    "(https://scikit-learn.org/stable/auto_examples/model_selection/plot_confusion_matrix.html#sphx-glr-auto-examples-model-selection-plot-confusion-matrix-py)\n",
    "\"\"\"\n",
    "\n",
    "def plot_confusion_matrix(cm, \n",
    "                          classes, \n",
    "                          normalize=False, \n",
    "                          title=\"Confusion Matrix\", \n",
    "                          cmap=plt.cm.Blues):\n",
    "    \n",
    "    plt.imshow(cm, interpolation=\"nearest\", cmap=cmap)\n",
    "    plt.title(title)\n",
    "    plt.colorbar()\n",
    "    tick_marks = np.arange(len(classes))\n",
    "    plt.xticks(tick_marks, classes, rotation=45)\n",
    "    plt.yticks(tick_marks, classes)\n",
    "    \n",
    "    if normalize:\n",
    "        cm = cm.astype('float') / cm.sum(axis=1)[:, np.newaxis]\n",
    "        print(\"Normalized confusion matrix\")\n",
    "    else:\n",
    "        print(\"Confusion matrix, without normalization\")\n",
    "    \n",
    "    thresh = cm.max() / 2\n",
    "    for i, j in itertools.product(range(cm.shape[0]), range(cm.shape[1])):\n",
    "        plt.text(j, i, cm[i, j], \n",
    "                 horizontalalignment=\"center\", \n",
    "                 color=\"white\" if cm[i, j] > thresh else \"black\")\n",
    "    plt.tight_layout()\n",
    "    plt.ylabel(\"True Label\")\n",
    "    plt.xlabel(\"Predicted Label\")"
   ]
  },
  {
   "cell_type": "code",
   "execution_count": 13,
   "metadata": {},
   "outputs": [
    {
     "name": "stdout",
     "output_type": "stream",
     "text": [
      "Confusion matrix, without normalization\n"
     ]
    },
    {
     "data": {
      "image/png": "[encoded data removed]",
      "text/plain": [
       "<Figure size 432x288 with 2 Axes>"
      ]
     },
     "metadata": {
      "needs_background": "light"
     },
     "output_type": "display_data"
    }
   ],
   "source": [
    "cm_plot_labels = list(\"0123456789\")\n",
    "plot_confusion_matrix(cm=cm, classes=cm_plot_labels)"
   ]
  }
 ],
 "metadata": {
  "colab": {
   "collapsed_sections": [],
   "name": "HandWrittenDigits.ipynb",
   "provenance": []
  },
  "kernelspec": {
   "display_name": "Python 3",
   "language": "python",
   "name": "python3"
  },
  "language_info": {
   "codemirror_mode": {
    "name": "ipython",
    "version": 3
   },
   "file_extension": ".py",
   "mimetype": "text/x-python",
   "name": "python",
   "nbconvert_exporter": "python",
   "pygments_lexer": "ipython3",
   "version": "3.9.5"
  }
 },
 "nbformat": 4,
 "nbformat_minor": 1
}
